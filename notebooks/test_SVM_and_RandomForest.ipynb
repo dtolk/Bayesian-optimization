{
  "nbformat": 4,
  "nbformat_minor": 0,
  "metadata": {
    "colab": {
      "name": "test-SVM-and-RandomForest.ipynb",
      "provenance": [],
      "collapsed_sections": []
    },
    "kernelspec": {
      "name": "python3",
      "display_name": "Python 3"
    },
    "language_info": {
      "name": "python"
    }
  },
  "cells": [
    {
      "cell_type": "code",
      "metadata": {
        "colab": {
          "base_uri": "https://localhost:8080/"
        },
        "id": "k_im02kYpmvV",
        "outputId": "a171054b-4756-40c0-dfce-93b9b7505b9b"
      },
      "source": [
        "!pip install bayesian-optimization"
      ],
      "execution_count": 2,
      "outputs": [
        {
          "output_type": "stream",
          "name": "stdout",
          "text": [
            "Collecting bayesian-optimization\n",
            "  Downloading bayesian-optimization-1.2.0.tar.gz (14 kB)\n",
            "Requirement already satisfied: numpy>=1.9.0 in /usr/local/lib/python3.7/dist-packages (from bayesian-optimization) (1.19.5)\n",
            "Requirement already satisfied: scipy>=0.14.0 in /usr/local/lib/python3.7/dist-packages (from bayesian-optimization) (1.4.1)\n",
            "Requirement already satisfied: scikit-learn>=0.18.0 in /usr/local/lib/python3.7/dist-packages (from bayesian-optimization) (0.22.2.post1)\n",
            "Requirement already satisfied: joblib>=0.11 in /usr/local/lib/python3.7/dist-packages (from scikit-learn>=0.18.0->bayesian-optimization) (1.0.1)\n",
            "Building wheels for collected packages: bayesian-optimization\n",
            "  Building wheel for bayesian-optimization (setup.py) ... \u001b[?25l\u001b[?25hdone\n",
            "  Created wheel for bayesian-optimization: filename=bayesian_optimization-1.2.0-py3-none-any.whl size=11685 sha256=0c9da020baa66b92f7e72c186de4349e577141426a5543df68b7da600e9a14f3\n",
            "  Stored in directory: /root/.cache/pip/wheels/fd/9b/71/f127d694e02eb40bcf18c7ae9613b88a6be4470f57a8528c5b\n",
            "Successfully built bayesian-optimization\n",
            "Installing collected packages: bayesian-optimization\n",
            "Successfully installed bayesian-optimization-1.2.0\n"
          ]
        }
      ]
    },
    {
      "cell_type": "code",
      "metadata": {
        "id": "Na0aDt5fpVWK"
      },
      "source": [
        "from sklearn.datasets import make_classification\n",
        "from sklearn.model_selection import cross_val_score\n",
        "from sklearn.ensemble import RandomForestClassifier as RFC\n",
        "from sklearn.svm import SVC\n",
        "\n",
        "from bayes_opt import BayesianOptimization\n",
        "from bayes_opt.util import Colours"
      ],
      "execution_count": 3,
      "outputs": []
    },
    {
      "cell_type": "code",
      "metadata": {
        "id": "RT2AZCDCprvN"
      },
      "source": [
        "def get_data():\n",
        "    \"\"\"Synthetic binary classification dataset.\"\"\"\n",
        "    data, targets = make_classification(\n",
        "        n_samples=1000,\n",
        "        n_features=45,\n",
        "        n_informative=12,\n",
        "        n_redundant=7,\n",
        "        random_state=134985745,\n",
        "    )\n",
        "    return data, targets"
      ],
      "execution_count": 4,
      "outputs": []
    },
    {
      "cell_type": "code",
      "metadata": {
        "id": "uVFAoD6EprsO"
      },
      "source": [
        "def svc_cv(C, gamma, data, targets):\n",
        "    \"\"\"SVC cross validation.\n",
        "    This function will instantiate a SVC classifier with parameters C and\n",
        "    gamma. Combined with data and targets this will in turn be used to perform\n",
        "    cross validation. The result of cross validation is returned.\n",
        "    Our goal is to find combinations of C and gamma that maximizes the roc_auc\n",
        "    metric.\n",
        "    \"\"\"\n",
        "    estimator = SVC(C=C, gamma=gamma, random_state=2)\n",
        "    cval = cross_val_score(estimator, data, targets, scoring='roc_auc', cv=4)\n",
        "    return cval.mean()"
      ],
      "execution_count": 5,
      "outputs": []
    },
    {
      "cell_type": "code",
      "metadata": {
        "id": "w-I-Pjxaprpr"
      },
      "source": [
        "def rfc_cv(n_estimators, min_samples_split, max_features, data, targets):\n",
        "    \"\"\"Random Forest cross validation.\n",
        "    This function will instantiate a random forest classifier with parameters\n",
        "    n_estimators, min_samples_split, and max_features. Combined with data and\n",
        "    targets this will in turn be used to perform cross validation. The result\n",
        "    of cross validation is returned.\n",
        "    Our goal is to find combinations of n_estimators, min_samples_split, and\n",
        "    max_features that minimzes the log loss.\n",
        "    \"\"\"\n",
        "    estimator = RFC(\n",
        "        n_estimators=n_estimators,\n",
        "        min_samples_split=min_samples_split,\n",
        "        max_features=max_features,\n",
        "        random_state=2\n",
        "    )\n",
        "    cval = cross_val_score(estimator, data, targets,\n",
        "                           scoring='neg_log_loss', cv=4)\n",
        "    return cval.mean()\n"
      ],
      "execution_count": 6,
      "outputs": []
    },
    {
      "cell_type": "code",
      "metadata": {
        "id": "SFaRx0lSprnR"
      },
      "source": [
        "def optimize_svc(data, targets):\n",
        "    \"\"\"Apply Bayesian Optimization to SVC parameters.\"\"\"\n",
        "    def svc_crossval(expC, expGamma):\n",
        "        \"\"\"Wrapper of SVC cross validation.\n",
        "        Notice how we transform between regular and log scale. While this\n",
        "        is not technically necessary, it greatly improves the performance\n",
        "        of the optimizer.\n",
        "        \"\"\"\n",
        "        C = 10 ** expC\n",
        "        gamma = 10 ** expGamma\n",
        "        return svc_cv(C=C, gamma=gamma, data=data, targets=targets)\n",
        "\n",
        "    optimizer = BayesianOptimization(\n",
        "        f=svc_crossval,\n",
        "        pbounds={\"expC\": (-3, 2), \"expGamma\": (-4, -1)},\n",
        "        random_state=1234,\n",
        "        verbose=2\n",
        "    )\n",
        "    optimizer.maximize(n_iter=10)\n",
        "\n",
        "    print(\"Final result:\", optimizer.max)"
      ],
      "execution_count": 7,
      "outputs": []
    },
    {
      "cell_type": "code",
      "metadata": {
        "id": "FadvCEoDprkd"
      },
      "source": [
        "def optimize_rfc(data, targets):\n",
        "    \"\"\"Apply Bayesian Optimization to Random Forest parameters.\"\"\"\n",
        "    def rfc_crossval(n_estimators, min_samples_split, max_features):\n",
        "        \"\"\"Wrapper of RandomForest cross validation.\n",
        "        Notice how we ensure n_estimators and min_samples_split are casted\n",
        "        to integer before we pass them along. Moreover, to avoid max_features\n",
        "        taking values outside the (0, 1) range, we also ensure it is capped\n",
        "        accordingly.\n",
        "        \"\"\"\n",
        "        return rfc_cv(\n",
        "            n_estimators=int(n_estimators),\n",
        "            min_samples_split=int(min_samples_split),\n",
        "            max_features=max(min(max_features, 0.999), 1e-3),\n",
        "            data=data,\n",
        "            targets=targets,\n",
        "        )\n",
        "\n",
        "    optimizer = BayesianOptimization(\n",
        "        f=rfc_crossval,\n",
        "        pbounds={\n",
        "            \"n_estimators\": (10, 250),\n",
        "            \"min_samples_split\": (2, 25),\n",
        "            \"max_features\": (0.1, 0.999),\n",
        "        },\n",
        "        random_state=1234,\n",
        "        verbose=2\n",
        "    )\n",
        "    optimizer.maximize(n_iter=10)\n",
        "\n",
        "    print(\"Final result:\", optimizer.max)"
      ],
      "execution_count": 8,
      "outputs": []
    },
    {
      "cell_type": "code",
      "metadata": {
        "id": "avkGQf6Jprh1"
      },
      "source": [
        "# Generate synthetic binary classification dataset\n",
        "data, targets = get_data()"
      ],
      "execution_count": 9,
      "outputs": []
    },
    {
      "cell_type": "code",
      "metadata": {
        "colab": {
          "base_uri": "https://localhost:8080/"
        },
        "id": "qQr15t84p5iI",
        "outputId": "41c88795-a511-4372-e1c3-a56125bc7a12"
      },
      "source": [
        "print(Colours.yellow(\"--- Optimizing SVM ---\"))\n",
        "optimize_svc(data, targets)"
      ],
      "execution_count": 11,
      "outputs": [
        {
          "output_type": "stream",
          "name": "stdout",
          "text": [
            "\u001b[93m--- Optimizing SVM ---\u001b[0m\n",
            "|   iter    |  target   |   expC    | expGamma  |\n",
            "-------------------------------------------------\n",
            "| \u001b[0m 1       \u001b[0m | \u001b[0m 0.882   \u001b[0m | \u001b[0m-2.042   \u001b[0m | \u001b[0m-2.134   \u001b[0m |\n",
            "| \u001b[95m 2       \u001b[0m | \u001b[95m 0.9142  \u001b[0m | \u001b[95m-0.8114  \u001b[0m | \u001b[95m-1.644   \u001b[0m |\n",
            "| \u001b[95m 3       \u001b[0m | \u001b[95m 0.9402  \u001b[0m | \u001b[95m 0.8999  \u001b[0m | \u001b[95m-3.182   \u001b[0m |\n",
            "| \u001b[0m 4       \u001b[0m | \u001b[0m 0.9174  \u001b[0m | \u001b[0m-1.618   \u001b[0m | \u001b[0m-1.594   \u001b[0m |\n",
            "| \u001b[0m 5       \u001b[0m | \u001b[0m 0.9345  \u001b[0m | \u001b[0m 1.791   \u001b[0m | \u001b[0m-1.372   \u001b[0m |\n",
            "| \u001b[0m 6       \u001b[0m | \u001b[0m 0.9007  \u001b[0m | \u001b[0m 2.0     \u001b[0m | \u001b[0m-4.0     \u001b[0m |\n",
            "| \u001b[0m 7       \u001b[0m | \u001b[0m 0.9091  \u001b[0m | \u001b[0m-3.0     \u001b[0m | \u001b[0m-1.0     \u001b[0m |\n",
            "| \u001b[0m 8       \u001b[0m | \u001b[0m 0.8354  \u001b[0m | \u001b[0m-0.4191  \u001b[0m | \u001b[0m-4.0     \u001b[0m |\n",
            "| \u001b[95m 9       \u001b[0m | \u001b[95m 0.9716  \u001b[0m | \u001b[95m 2.0     \u001b[0m | \u001b[95m-2.542   \u001b[0m |\n",
            "| \u001b[95m 10      \u001b[0m | \u001b[95m 0.9729  \u001b[0m | \u001b[95m 1.468   \u001b[0m | \u001b[95m-2.346   \u001b[0m |\n",
            "| \u001b[0m 11      \u001b[0m | \u001b[0m 0.9711  \u001b[0m | \u001b[0m 1.667   \u001b[0m | \u001b[0m-2.649   \u001b[0m |\n",
            "| \u001b[95m 12      \u001b[0m | \u001b[95m 0.973   \u001b[0m | \u001b[95m 1.827   \u001b[0m | \u001b[95m-2.277   \u001b[0m |\n",
            "| \u001b[0m 13      \u001b[0m | \u001b[0m 0.9728  \u001b[0m | \u001b[0m 1.69    \u001b[0m | \u001b[0m-2.364   \u001b[0m |\n",
            "| \u001b[0m 14      \u001b[0m | \u001b[0m 0.9725  \u001b[0m | \u001b[0m 1.692   \u001b[0m | \u001b[0m-2.404   \u001b[0m |\n",
            "| \u001b[0m 15      \u001b[0m | \u001b[0m 0.9729  \u001b[0m | \u001b[0m 1.947   \u001b[0m | \u001b[0m-2.344   \u001b[0m |\n",
            "=================================================\n",
            "Final result: {'target': 0.9729595360983103, 'params': {'expC': 1.8272363367085624, 'expGamma': -2.276983983143419}}\n"
          ]
        }
      ]
    },
    {
      "cell_type": "code",
      "metadata": {
        "colab": {
          "base_uri": "https://localhost:8080/"
        },
        "id": "C4xpopjVp5fj",
        "outputId": "60d21b38-fa01-4f2d-d4fd-6ad42535ba05"
      },
      "source": [
        "print(Colours.green(\"--- Optimizing Random Forest ---\"))\n",
        "optimize_rfc(data, targets)"
      ],
      "execution_count": 12,
      "outputs": [
        {
          "output_type": "stream",
          "name": "stdout",
          "text": [
            "\u001b[92m--- Optimizing Random Forest ---\u001b[0m\n",
            "|   iter    |  target   | max_fe... | min_sa... | n_esti... |\n",
            "-------------------------------------------------------------\n",
            "| \u001b[0m 1       \u001b[0m | \u001b[0m-0.3777  \u001b[0m | \u001b[0m 0.2722  \u001b[0m | \u001b[0m 16.31   \u001b[0m | \u001b[0m 115.1   \u001b[0m |\n",
            "| \u001b[95m 2       \u001b[0m | \u001b[95m-0.3648  \u001b[0m | \u001b[95m 0.806   \u001b[0m | \u001b[95m 19.94   \u001b[0m | \u001b[95m 75.42   \u001b[0m |\n",
            "| \u001b[0m 3       \u001b[0m | \u001b[0m-0.3774  \u001b[0m | \u001b[0m 0.3485  \u001b[0m | \u001b[0m 20.44   \u001b[0m | \u001b[0m 240.0   \u001b[0m |\n",
            "| \u001b[95m 4       \u001b[0m | \u001b[95m-0.3557  \u001b[0m | \u001b[95m 0.8875  \u001b[0m | \u001b[95m 10.23   \u001b[0m | \u001b[95m 130.2   \u001b[0m |\n",
            "| \u001b[0m 5       \u001b[0m | \u001b[0m-0.3664  \u001b[0m | \u001b[0m 0.7144  \u001b[0m | \u001b[0m 18.39   \u001b[0m | \u001b[0m 98.86   \u001b[0m |\n",
            "| \u001b[0m 6       \u001b[0m | \u001b[0m-0.6459  \u001b[0m | \u001b[0m 0.999   \u001b[0m | \u001b[0m 2.0     \u001b[0m | \u001b[0m 10.0    \u001b[0m |\n",
            "| \u001b[95m 7       \u001b[0m | \u001b[95m-0.3528  \u001b[0m | \u001b[95m 0.5371  \u001b[0m | \u001b[95m 8.287   \u001b[0m | \u001b[95m 127.9   \u001b[0m |\n",
            "| \u001b[95m 8       \u001b[0m | \u001b[95m-0.3504  \u001b[0m | \u001b[95m 0.999   \u001b[0m | \u001b[95m 2.0     \u001b[0m | \u001b[95m 249.6   \u001b[0m |\n",
            "| \u001b[0m 9       \u001b[0m | \u001b[0m-0.3541  \u001b[0m | \u001b[0m 0.5048  \u001b[0m | \u001b[0m 2.02    \u001b[0m | \u001b[0m 198.8   \u001b[0m |\n",
            "| \u001b[0m 10      \u001b[0m | \u001b[0m-0.3543  \u001b[0m | \u001b[0m 0.8738  \u001b[0m | \u001b[0m 2.05    \u001b[0m | \u001b[0m 82.07   \u001b[0m |\n",
            "| \u001b[0m 11      \u001b[0m | \u001b[0m-0.3547  \u001b[0m | \u001b[0m 0.9692  \u001b[0m | \u001b[0m 2.023   \u001b[0m | \u001b[0m 159.8   \u001b[0m |\n",
            "| \u001b[0m 12      \u001b[0m | \u001b[0m-0.3514  \u001b[0m | \u001b[0m 0.9986  \u001b[0m | \u001b[0m 2.337   \u001b[0m | \u001b[0m 225.9   \u001b[0m |\n",
            "| \u001b[95m 13      \u001b[0m | \u001b[95m-0.3501  \u001b[0m | \u001b[95m 0.8352  \u001b[0m | \u001b[95m 2.082   \u001b[0m | \u001b[95m 114.9   \u001b[0m |\n",
            "| \u001b[0m 14      \u001b[0m | \u001b[0m-0.3727  \u001b[0m | \u001b[0m 0.9774  \u001b[0m | \u001b[0m 24.85   \u001b[0m | \u001b[0m 189.1   \u001b[0m |\n",
            "| \u001b[0m 15      \u001b[0m | \u001b[0m-0.3613  \u001b[0m | \u001b[0m 0.3327  \u001b[0m | \u001b[0m 2.035   \u001b[0m | \u001b[0m 139.0   \u001b[0m |\n",
            "=============================================================\n",
            "Final result: {'target': -0.35006544307784926, 'params': {'max_features': 0.8352106850024508, 'min_samples_split': 2.0816226012494425, 'n_estimators': 114.9353627759933}}\n"
          ]
        }
      ]
    },
    {
      "cell_type": "code",
      "metadata": {
        "id": "QHqh_z6lp5dF"
      },
      "source": [
        ""
      ],
      "execution_count": null,
      "outputs": []
    },
    {
      "cell_type": "code",
      "metadata": {
        "id": "_K8yNHCKpgGl"
      },
      "source": [
        ""
      ],
      "execution_count": null,
      "outputs": []
    }
  ]
}